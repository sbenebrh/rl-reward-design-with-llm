{
 "cells": [
  {
   "cell_type": "code",
   "execution_count": 1,
   "id": "1c12fe03",
   "metadata": {},
   "outputs": [],
   "source": [
    "import torch\n",
    "import torch.nn as nn\n",
    "import torch.nn.functional as F\n",
    "import torch.optim as optim\n",
    "import torch.utils.data as data\n",
    "\n",
    "from tqdm.notebook import trange, tqdm\n",
    "import matplotlib.pyplot as plt\n",
    "import numpy as np\n",
    "import pickle as pkl\n",
    "\n",
    "import copy\n",
    "import random\n",
    "import time\n",
    "# credits to: https://colab.research.google.com/github/bentrevett/pytorch-image-classification/blob/master/1_mlp.ipynb#scrollTo=p-gtfzafREwc"
   ]
  },
  {
   "cell_type": "code",
   "execution_count": 2,
   "id": "bf023cd1",
   "metadata": {},
   "outputs": [],
   "source": [
    "class MLP(nn.Module):\n",
    "    def __init__(self, input_dim, output_dim):\n",
    "        super().__init__()\n",
    "\n",
    "        self.input_fc = nn.Linear(input_dim, 32)\n",
    "        self.hidden_fc = nn.Linear(32, 32)\n",
    "        self.output_fc = nn.Linear(32, output_dim)\n",
    "\n",
    "    def forward(self, x):\n",
    "\n",
    "        # x = [batch size, input_size]\n",
    "\n",
    "        batch_size = x.shape[0]\n",
    "\n",
    "        h_1 = F.relu(self.input_fc(x))\n",
    "\n",
    "        # h_1 = [batch size, 250]\n",
    "\n",
    "        h_2 = F.relu(self.hidden_fc(h_1))\n",
    "\n",
    "        # h_2 = [batch size, 100]\n",
    "\n",
    "        y_pred = self.output_fc(h_2)\n",
    "\n",
    "        # y_pred = [batch size, output dim]\n",
    "\n",
    "        return y_pred"
   ]
  },
  {
   "cell_type": "code",
   "execution_count": 4,
   "id": "8c6cb7be",
   "metadata": {
    "scrolled": true
   },
   "outputs": [],
   "source": [
    "def calculate_accuracy(y_pred, y):\n",
    "    top_pred = y_pred.argmax(1, keepdim=True)\n",
    "    correct = top_pred.eq(y.view_as(top_pred)).sum()\n",
    "    acc = correct.float() / y.shape[0]\n",
    "    return acc\n",
    "\n",
    "\n",
    "def evaluate(model, iterator, criterion):\n",
    "\n",
    "    epoch_loss = []\n",
    "    epoch_acc = []\n",
    "    to_save = []\n",
    "\n",
    "    model.eval()\n",
    "\n",
    "    with torch.no_grad():\n",
    "\n",
    "        for (x, y) in tqdm(iterator, desc=\"Evaluating\", leave=False):\n",
    "         \n",
    "            x = torch.tensor([x]).float()\n",
    "\n",
    "            y_pred = model(x)\n",
    "            \n",
    "            save_lst = x[0].tolist() + [np.argmax(y_pred[0].tolist())]\n",
    "            \n",
    "            to_save.append(save_lst)\n",
    "\n",
    "            loss = criterion(y_pred, y.long())\n",
    "\n",
    "            acc = calculate_accuracy(y_pred, y)\n",
    "\n",
    "            epoch_loss += [loss.item()]\n",
    "            epoch_acc += [acc.item()]\n",
    "\n",
    "    assert len(to_save) == 50\n",
    "    return np.mean(epoch_loss), np.mean(epoch_acc), np.std(epoch_acc), to_save\n",
    "\n",
    "\n",
    "def train(model, iterator, optimizer, criterion):\n",
    "\n",
    "    epoch_loss = 0\n",
    "    epoch_acc = 0\n",
    "\n",
    "    model.train()\n",
    "\n",
    "    for (x, y) in tqdm(iterator, desc=\"Training\", leave=False):\n",
    "        \n",
    "        #x = torch.stack(x).float()\n",
    "        x = torch.tensor([x]).float()\n",
    "        \n",
    "        optimizer.zero_grad()\n",
    "\n",
    "        y_pred = model(x)\n",
    "                \n",
    "        loss = criterion(y_pred, y.long())\n",
    "\n",
    "        acc = calculate_accuracy(y_pred, y)\n",
    "\n",
    "        loss.backward()\n",
    "\n",
    "        optimizer.step()\n",
    "\n",
    "        epoch_loss += loss.item()\n",
    "        epoch_acc += acc.item()\n",
    "\n",
    "    return epoch_loss / len(iterator), epoch_acc / len(iterator)\n",
    "\n",
    "def main(train_iterator, test_iterator):\n",
    "    INPUT_DIM = 2\n",
    "    OUTPUT_DIM = 2\n",
    "    model = MLP(INPUT_DIM, OUTPUT_DIM)\n",
    "    criterion = nn.CrossEntropyLoss()\n",
    "    optimizer = optim.Adam(model.parameters())\n",
    "    \n",
    "    EPOCHS = 5\n",
    "    best_valid_loss = float('inf')\n",
    "    best_to_save = []\n",
    "    best_valid_acc_std = None\n",
    "    best_train_acc = 0\n",
    "    for epoch in trange(EPOCHS):\n",
    "        train_loss, train_acc = train(model, train_iterator, optimizer, criterion)\n",
    "        valid_loss, valid_acc, valid_acc_std, to_save = evaluate(model, test_iterator, criterion)\n",
    "\n",
    "        if valid_loss < best_valid_loss:\n",
    "            best_valid_loss = valid_loss\n",
    "            best_to_save = to_save\n",
    "            best_train_acc = train_acc\n",
    "            best_valid_acc_std = (valid_acc, valid_acc_std)\n",
    "            print(\"best!\")\n",
    "\n",
    "        print(f'Epoch: {epoch+1:02}')\n",
    "        print(f'\\tTrain Loss: {train_loss:.3f} | Train Acc: {train_acc*100:.2f}%')\n",
    "        print(f'\\t Val. Loss: {valid_loss:.3f} |  Val. Acc: {valid_acc*100:.2f}% | Val. Std {valid_acc_std}')\n",
    "\n",
    "    print(f'\\t Val. Loss: {best_valid_loss:.3f} |  Val. Acc: {best_valid_acc_std[0]} | Val. Std {best_valid_acc_std[1]} | Train Acc: {best_train_acc:.3f}')\n",
    "    return np.array(to_save) "
   ]
  },
  {
   "cell_type": "code",
   "execution_count": 9,
   "id": "53975ad8",
   "metadata": {
    "scrolled": false
   },
   "outputs": [],
   "source": [
    "\n",
    "def run(condition, threshold):\n",
    "        with open(f\"{condition}_{threshold}.pkl\", \"rb\") as f:\n",
    "                pkldata = pkl.load(f)\n",
    "                train_data, test_data = np.array(pkldata[\"train\"]), np.array(pkldata[\"test\"])\n",
    "\n",
    "        seed = 0\n",
    "        random.seed(seed)\n",
    "        np.random.seed(seed)\n",
    "        torch.manual_seed(seed)\n",
    "        torch.cuda.manual_seed(seed)\n",
    "        torch.backends.cudnn.deterministic = True\n",
    "\n",
    "        # normalize\n",
    "        shifted_train_data = np.copy(train_data)\n",
    "        shifted_train_data[:,:2] -= np.mean(train_data[:,:2],axis=0)\n",
    "        shifted_train_data[:,:2] /= np.std(train_data[:,:2],axis=0)\n",
    "\n",
    "\n",
    "        shifted_test_data = np.copy(test_data)\n",
    "        shifted_test_data[:,:2] -= np.mean(test_data[:,:2],axis=0)\n",
    "        shifted_test_data[:,:2] /= np.std(test_data[:,:2],axis=0)\n",
    "        save_shifted_test_data = np.copy(shifted_test_data) # for debugging purposes\n",
    "\n",
    "        shifted_train_data = [[[x[0], x[1]], x[2]] for x in shifted_train_data]\n",
    "        shifted_test_data = [[[x[0], x[1]], x[2]] for x in shifted_test_data]\n",
    "\n",
    "\n",
    "        train_iterator = data.DataLoader(shifted_train_data,\n",
    "                                        shuffle=True,\n",
    "                                        batch_size=1)\n",
    "        test_iterator = data.DataLoader(shifted_test_data,\n",
    "                                        shuffle=False,\n",
    "                                        batch_size=1)\n",
    "\n",
    "        to_save = main(train_iterator, test_iterator)\n",
    "        predicted_labels = to_save[:, 2]\n",
    "\n",
    "        # # assert that test data loader did not shuffle the test batch \n",
    "        assert (np.all(np.around(to_save[:, :2],3) == np.around(save_shifted_test_data[:, :2],3)))\n",
    "        sl_labeled_test_data = np.copy(test_data)\n",
    "        correct_labels = np.copy(sl_labeled_test_data[:, 2])\n",
    "        sl_labeled_test_data[:,2] = predicted_labels\n",
    "        print(np.all(correct_labels == predicted_labels))\n",
    "\n",
    "#with open(f\"sl_responses/{condition}_{threshold}_train.pkl\", \"wb\") as f:\n",
    "#    pkl.dump({'test':sl_labeled_test_data}, f)"
   ]
  },
  {
   "cell_type": "markdown",
   "id": "36008d1b",
   "metadata": {},
   "source": [
    "### Train aversion"
   ]
  },
  {
   "cell_type": "code",
   "execution_count": 10,
   "id": "07f7faf1",
   "metadata": {},
   "outputs": [
    {
     "data": {
      "application/vnd.jupyter.widget-view+json": {
       "model_id": "c59bd39c78df4a3cb8b283a28770eaf4",
       "version_major": 2,
       "version_minor": 0
      },
      "text/plain": [
       "  0%|          | 0/5 [00:00<?, ?it/s]"
      ]
     },
     "metadata": {},
     "output_type": "display_data"
    },
    {
     "data": {
      "application/vnd.jupyter.widget-view+json": {
       "model_id": "a5644217e2ac49359a7aa5cfe7416662",
       "version_major": 2,
       "version_minor": 0
      },
      "text/plain": [
       "Training:   0%|          | 0/10 [00:00<?, ?it/s]"
      ]
     },
     "metadata": {},
     "output_type": "display_data"
    },
    {
     "data": {
      "application/vnd.jupyter.widget-view+json": {
       "model_id": "5ed582a59102402689e79029cd6dcc86",
       "version_major": 2,
       "version_minor": 0
      },
      "text/plain": [
       "Evaluating:   0%|          | 0/50 [00:00<?, ?it/s]"
      ]
     },
     "metadata": {},
     "output_type": "display_data"
    },
    {
     "name": "stdout",
     "output_type": "stream",
     "text": [
      "best!\n",
      "Epoch: 01\n",
      "\tTrain Loss: 0.673 | Train Acc: 70.00%\n",
      "\t Val. Loss: 0.624 |  Val. Acc: 100.00% | Val. Std 0.0\n"
     ]
    },
    {
     "data": {
      "application/vnd.jupyter.widget-view+json": {
       "model_id": "37a3126d8e1e40679d3b9b8c9a6118ad",
       "version_major": 2,
       "version_minor": 0
      },
      "text/plain": [
       "Training:   0%|          | 0/10 [00:00<?, ?it/s]"
      ]
     },
     "metadata": {},
     "output_type": "display_data"
    },
    {
     "data": {
      "application/vnd.jupyter.widget-view+json": {
       "model_id": "832068e7716e4dc0b29ca6604c250e65",
       "version_major": 2,
       "version_minor": 0
      },
      "text/plain": [
       "Evaluating:   0%|          | 0/50 [00:00<?, ?it/s]"
      ]
     },
     "metadata": {},
     "output_type": "display_data"
    },
    {
     "name": "stdout",
     "output_type": "stream",
     "text": [
      "best!\n",
      "Epoch: 02\n",
      "\tTrain Loss: 0.583 | Train Acc: 100.00%\n",
      "\t Val. Loss: 0.540 |  Val. Acc: 100.00% | Val. Std 0.0\n"
     ]
    },
    {
     "data": {
      "application/vnd.jupyter.widget-view+json": {
       "model_id": "b9b7f08a345944228e288048ff9d0638",
       "version_major": 2,
       "version_minor": 0
      },
      "text/plain": [
       "Training:   0%|          | 0/10 [00:00<?, ?it/s]"
      ]
     },
     "metadata": {},
     "output_type": "display_data"
    },
    {
     "data": {
      "application/vnd.jupyter.widget-view+json": {
       "model_id": "e7ac64b3b9d34d5599d3df51a0cb1928",
       "version_major": 2,
       "version_minor": 0
      },
      "text/plain": [
       "Evaluating:   0%|          | 0/50 [00:00<?, ?it/s]"
      ]
     },
     "metadata": {},
     "output_type": "display_data"
    },
    {
     "name": "stdout",
     "output_type": "stream",
     "text": [
      "best!\n",
      "Epoch: 03\n",
      "\tTrain Loss: 0.502 | Train Acc: 100.00%\n",
      "\t Val. Loss: 0.460 |  Val. Acc: 100.00% | Val. Std 0.0\n"
     ]
    },
    {
     "data": {
      "application/vnd.jupyter.widget-view+json": {
       "model_id": "ab77ce7d78474f26a5893fb4919f8698",
       "version_major": 2,
       "version_minor": 0
      },
      "text/plain": [
       "Training:   0%|          | 0/10 [00:00<?, ?it/s]"
      ]
     },
     "metadata": {},
     "output_type": "display_data"
    },
    {
     "data": {
      "application/vnd.jupyter.widget-view+json": {
       "model_id": "0a84a505c1dc4f0d9c338e2608d1a79a",
       "version_major": 2,
       "version_minor": 0
      },
      "text/plain": [
       "Evaluating:   0%|          | 0/50 [00:00<?, ?it/s]"
      ]
     },
     "metadata": {},
     "output_type": "display_data"
    },
    {
     "name": "stdout",
     "output_type": "stream",
     "text": [
      "best!\n",
      "Epoch: 04\n",
      "\tTrain Loss: 0.424 | Train Acc: 100.00%\n",
      "\t Val. Loss: 0.383 |  Val. Acc: 100.00% | Val. Std 0.0\n"
     ]
    },
    {
     "data": {
      "application/vnd.jupyter.widget-view+json": {
       "model_id": "2f7a19473f634ec6bc5309709e5ed28f",
       "version_major": 2,
       "version_minor": 0
      },
      "text/plain": [
       "Training:   0%|          | 0/10 [00:00<?, ?it/s]"
      ]
     },
     "metadata": {},
     "output_type": "display_data"
    },
    {
     "data": {
      "application/vnd.jupyter.widget-view+json": {
       "model_id": "c2625f33fd1c453dacfb5ed692cf1316",
       "version_major": 2,
       "version_minor": 0
      },
      "text/plain": [
       "Evaluating:   0%|          | 0/50 [00:00<?, ?it/s]"
      ]
     },
     "metadata": {},
     "output_type": "display_data"
    },
    {
     "name": "stdout",
     "output_type": "stream",
     "text": [
      "best!\n",
      "Epoch: 05\n",
      "\tTrain Loss: 0.345 | Train Acc: 100.00%\n",
      "\t Val. Loss: 0.308 |  Val. Acc: 100.00% | Val. Std 0.0\n",
      "\t Val. Loss: 0.308 |  Val. Acc: 1.0 | Val. Std 0.0 | Train Acc: 1.000\n",
      "True\n"
     ]
    }
   ],
   "source": [
    "threshold=None\n",
    "condition = \"inequity_aversion\"\n",
    "run(condition, threshold)"
   ]
  },
  {
   "cell_type": "markdown",
   "id": "5076e8d6",
   "metadata": {},
   "source": [
    "### Train 30%"
   ]
  },
  {
   "cell_type": "code",
   "execution_count": 11,
   "id": "2064f26f",
   "metadata": {},
   "outputs": [
    {
     "data": {
      "application/vnd.jupyter.widget-view+json": {
       "model_id": "c761d19c51114894a031be60a78db3f3",
       "version_major": 2,
       "version_minor": 0
      },
      "text/plain": [
       "  0%|          | 0/5 [00:00<?, ?it/s]"
      ]
     },
     "metadata": {},
     "output_type": "display_data"
    },
    {
     "data": {
      "application/vnd.jupyter.widget-view+json": {
       "model_id": "3abcf4411ac04791a519b79aa1bf0f37",
       "version_major": 2,
       "version_minor": 0
      },
      "text/plain": [
       "Training:   0%|          | 0/10 [00:00<?, ?it/s]"
      ]
     },
     "metadata": {},
     "output_type": "display_data"
    },
    {
     "data": {
      "application/vnd.jupyter.widget-view+json": {
       "model_id": "992044a3704c468ea24b7adfcf55fbc4",
       "version_major": 2,
       "version_minor": 0
      },
      "text/plain": [
       "Evaluating:   0%|          | 0/50 [00:00<?, ?it/s]"
      ]
     },
     "metadata": {},
     "output_type": "display_data"
    },
    {
     "name": "stdout",
     "output_type": "stream",
     "text": [
      "best!\n",
      "Epoch: 01\n",
      "\tTrain Loss: 0.693 | Train Acc: 60.00%\n",
      "\t Val. Loss: 0.660 |  Val. Acc: 68.00% | Val. Std 0.466476151587624\n"
     ]
    },
    {
     "data": {
      "application/vnd.jupyter.widget-view+json": {
       "model_id": "c8409e568203437ab7033b0ea1adbf9d",
       "version_major": 2,
       "version_minor": 0
      },
      "text/plain": [
       "Training:   0%|          | 0/10 [00:00<?, ?it/s]"
      ]
     },
     "metadata": {},
     "output_type": "display_data"
    },
    {
     "data": {
      "application/vnd.jupyter.widget-view+json": {
       "model_id": "2bdfeb1ee42344d2ada1abf18a7710ec",
       "version_major": 2,
       "version_minor": 0
      },
      "text/plain": [
       "Evaluating:   0%|          | 0/50 [00:00<?, ?it/s]"
      ]
     },
     "metadata": {},
     "output_type": "display_data"
    },
    {
     "name": "stdout",
     "output_type": "stream",
     "text": [
      "best!\n",
      "Epoch: 02\n",
      "\tTrain Loss: 0.634 | Train Acc: 70.00%\n",
      "\t Val. Loss: 0.619 |  Val. Acc: 70.00% | Val. Std 0.458257569495584\n"
     ]
    },
    {
     "data": {
      "application/vnd.jupyter.widget-view+json": {
       "model_id": "4f84289e45074b498cd685f61cb768f9",
       "version_major": 2,
       "version_minor": 0
      },
      "text/plain": [
       "Training:   0%|          | 0/10 [00:00<?, ?it/s]"
      ]
     },
     "metadata": {},
     "output_type": "display_data"
    },
    {
     "data": {
      "application/vnd.jupyter.widget-view+json": {
       "model_id": "68569eb974f04c6b95955af270fb94f4",
       "version_major": 2,
       "version_minor": 0
      },
      "text/plain": [
       "Evaluating:   0%|          | 0/50 [00:00<?, ?it/s]"
      ]
     },
     "metadata": {},
     "output_type": "display_data"
    },
    {
     "name": "stdout",
     "output_type": "stream",
     "text": [
      "best!\n",
      "Epoch: 03\n",
      "\tTrain Loss: 0.588 | Train Acc: 90.00%\n",
      "\t Val. Loss: 0.575 |  Val. Acc: 80.00% | Val. Std 0.4\n"
     ]
    },
    {
     "data": {
      "application/vnd.jupyter.widget-view+json": {
       "model_id": "63155545de124d989e86def90b00f0ca",
       "version_major": 2,
       "version_minor": 0
      },
      "text/plain": [
       "Training:   0%|          | 0/10 [00:00<?, ?it/s]"
      ]
     },
     "metadata": {},
     "output_type": "display_data"
    },
    {
     "data": {
      "application/vnd.jupyter.widget-view+json": {
       "model_id": "1fdf7722b92a45009fdcb2905eae5637",
       "version_major": 2,
       "version_minor": 0
      },
      "text/plain": [
       "Evaluating:   0%|          | 0/50 [00:00<?, ?it/s]"
      ]
     },
     "metadata": {},
     "output_type": "display_data"
    },
    {
     "name": "stdout",
     "output_type": "stream",
     "text": [
      "best!\n",
      "Epoch: 04\n",
      "\tTrain Loss: 0.539 | Train Acc: 100.00%\n",
      "\t Val. Loss: 0.534 |  Val. Acc: 86.00% | Val. Std 0.3469870314579494\n"
     ]
    },
    {
     "data": {
      "application/vnd.jupyter.widget-view+json": {
       "model_id": "594f69cc78f4486688bea11fadec68ae",
       "version_major": 2,
       "version_minor": 0
      },
      "text/plain": [
       "Training:   0%|          | 0/10 [00:00<?, ?it/s]"
      ]
     },
     "metadata": {},
     "output_type": "display_data"
    },
    {
     "data": {
      "application/vnd.jupyter.widget-view+json": {
       "model_id": "c167533bd4404f04b25860176d12431b",
       "version_major": 2,
       "version_minor": 0
      },
      "text/plain": [
       "Evaluating:   0%|          | 0/50 [00:00<?, ?it/s]"
      ]
     },
     "metadata": {},
     "output_type": "display_data"
    },
    {
     "name": "stdout",
     "output_type": "stream",
     "text": [
      "best!\n",
      "Epoch: 05\n",
      "\tTrain Loss: 0.490 | Train Acc: 100.00%\n",
      "\t Val. Loss: 0.496 |  Val. Acc: 86.00% | Val. Std 0.3469870314579494\n",
      "\t Val. Loss: 0.496 |  Val. Acc: 0.86 | Val. Std 0.3469870314579494 | Train Acc: 1.000\n",
      "False\n"
     ]
    }
   ],
   "source": [
    "threshold=0.3\n",
    "condition = \"low_high_percentage\"\n",
    "run(condition, threshold)"
   ]
  },
  {
   "cell_type": "markdown",
   "id": "f4fbd2c5",
   "metadata": {},
   "source": [
    "### Train 60%"
   ]
  },
  {
   "cell_type": "code",
   "execution_count": 12,
   "id": "800e6f6e",
   "metadata": {},
   "outputs": [
    {
     "data": {
      "application/vnd.jupyter.widget-view+json": {
       "model_id": "d8eda7c3a35a406085e63ae304aa8230",
       "version_major": 2,
       "version_minor": 0
      },
      "text/plain": [
       "  0%|          | 0/5 [00:00<?, ?it/s]"
      ]
     },
     "metadata": {},
     "output_type": "display_data"
    },
    {
     "data": {
      "application/vnd.jupyter.widget-view+json": {
       "model_id": "f1ac95d2d0e24471bfaa7a0940f9ae00",
       "version_major": 2,
       "version_minor": 0
      },
      "text/plain": [
       "Training:   0%|          | 0/10 [00:00<?, ?it/s]"
      ]
     },
     "metadata": {},
     "output_type": "display_data"
    },
    {
     "data": {
      "application/vnd.jupyter.widget-view+json": {
       "model_id": "9662cb5b286444629f406f678b73b9f6",
       "version_major": 2,
       "version_minor": 0
      },
      "text/plain": [
       "Evaluating:   0%|          | 0/50 [00:00<?, ?it/s]"
      ]
     },
     "metadata": {},
     "output_type": "display_data"
    },
    {
     "name": "stdout",
     "output_type": "stream",
     "text": [
      "best!\n",
      "Epoch: 01\n",
      "\tTrain Loss: 0.710 | Train Acc: 30.00%\n",
      "\t Val. Loss: 0.678 |  Val. Acc: 92.00% | Val. Std 0.2712931993250107\n"
     ]
    },
    {
     "data": {
      "application/vnd.jupyter.widget-view+json": {
       "model_id": "dfe597f34aae4452abf29837aebeafdf",
       "version_major": 2,
       "version_minor": 0
      },
      "text/plain": [
       "Training:   0%|          | 0/10 [00:00<?, ?it/s]"
      ]
     },
     "metadata": {},
     "output_type": "display_data"
    },
    {
     "data": {
      "application/vnd.jupyter.widget-view+json": {
       "model_id": "e3128c96c88f44a2909abb7c12b0f128",
       "version_major": 2,
       "version_minor": 0
      },
      "text/plain": [
       "Evaluating:   0%|          | 0/50 [00:00<?, ?it/s]"
      ]
     },
     "metadata": {},
     "output_type": "display_data"
    },
    {
     "name": "stdout",
     "output_type": "stream",
     "text": [
      "best!\n",
      "Epoch: 02\n",
      "\tTrain Loss: 0.658 | Train Acc: 90.00%\n",
      "\t Val. Loss: 0.637 |  Val. Acc: 100.00% | Val. Std 0.0\n"
     ]
    },
    {
     "data": {
      "application/vnd.jupyter.widget-view+json": {
       "model_id": "9e50a9dea295458782917f4087fed935",
       "version_major": 2,
       "version_minor": 0
      },
      "text/plain": [
       "Training:   0%|          | 0/10 [00:00<?, ?it/s]"
      ]
     },
     "metadata": {},
     "output_type": "display_data"
    },
    {
     "data": {
      "application/vnd.jupyter.widget-view+json": {
       "model_id": "d42de21a997d44b1b408859ae97b6390",
       "version_major": 2,
       "version_minor": 0
      },
      "text/plain": [
       "Evaluating:   0%|          | 0/50 [00:00<?, ?it/s]"
      ]
     },
     "metadata": {},
     "output_type": "display_data"
    },
    {
     "name": "stdout",
     "output_type": "stream",
     "text": [
      "best!\n",
      "Epoch: 03\n",
      "\tTrain Loss: 0.617 | Train Acc: 100.00%\n",
      "\t Val. Loss: 0.596 |  Val. Acc: 100.00% | Val. Std 0.0\n"
     ]
    },
    {
     "data": {
      "application/vnd.jupyter.widget-view+json": {
       "model_id": "10baa069306746398fdf8a0977a25a67",
       "version_major": 2,
       "version_minor": 0
      },
      "text/plain": [
       "Training:   0%|          | 0/10 [00:00<?, ?it/s]"
      ]
     },
     "metadata": {},
     "output_type": "display_data"
    },
    {
     "data": {
      "application/vnd.jupyter.widget-view+json": {
       "model_id": "66525b7a6ad749c4ab5e015eca558f8a",
       "version_major": 2,
       "version_minor": 0
      },
      "text/plain": [
       "Evaluating:   0%|          | 0/50 [00:00<?, ?it/s]"
      ]
     },
     "metadata": {},
     "output_type": "display_data"
    },
    {
     "name": "stdout",
     "output_type": "stream",
     "text": [
      "best!\n",
      "Epoch: 04\n",
      "\tTrain Loss: 0.574 | Train Acc: 100.00%\n",
      "\t Val. Loss: 0.556 |  Val. Acc: 100.00% | Val. Std 0.0\n"
     ]
    },
    {
     "data": {
      "application/vnd.jupyter.widget-view+json": {
       "model_id": "d7ba356a90a0480ea1d0b6c7b75e6766",
       "version_major": 2,
       "version_minor": 0
      },
      "text/plain": [
       "Training:   0%|          | 0/10 [00:00<?, ?it/s]"
      ]
     },
     "metadata": {},
     "output_type": "display_data"
    },
    {
     "data": {
      "application/vnd.jupyter.widget-view+json": {
       "model_id": "fbee3cbe6ad14b048769278a68ab88af",
       "version_major": 2,
       "version_minor": 0
      },
      "text/plain": [
       "Evaluating:   0%|          | 0/50 [00:00<?, ?it/s]"
      ]
     },
     "metadata": {},
     "output_type": "display_data"
    },
    {
     "name": "stdout",
     "output_type": "stream",
     "text": [
      "best!\n",
      "Epoch: 05\n",
      "\tTrain Loss: 0.532 | Train Acc: 100.00%\n",
      "\t Val. Loss: 0.514 |  Val. Acc: 100.00% | Val. Std 0.0\n",
      "\t Val. Loss: 0.514 |  Val. Acc: 1.0 | Val. Std 0.0 | Train Acc: 1.000\n",
      "True\n"
     ]
    }
   ],
   "source": [
    "threshold=0.6\n",
    "condition = \"low_high_percentage\"\n",
    "run(condition, threshold)"
   ]
  },
  {
   "cell_type": "markdown",
   "id": "b0f52a4b",
   "metadata": {},
   "source": [
    "### Train Payoff 10$"
   ]
  },
  {
   "cell_type": "code",
   "execution_count": 13,
   "id": "3faa55db",
   "metadata": {},
   "outputs": [
    {
     "data": {
      "application/vnd.jupyter.widget-view+json": {
       "model_id": "f1b426dbcaa4401cb327cb1b2a59aa61",
       "version_major": 2,
       "version_minor": 0
      },
      "text/plain": [
       "  0%|          | 0/5 [00:00<?, ?it/s]"
      ]
     },
     "metadata": {},
     "output_type": "display_data"
    },
    {
     "data": {
      "application/vnd.jupyter.widget-view+json": {
       "model_id": "7447a58982ea44b7a1f3b888c15016bf",
       "version_major": 2,
       "version_minor": 0
      },
      "text/plain": [
       "Training:   0%|          | 0/10 [00:00<?, ?it/s]"
      ]
     },
     "metadata": {},
     "output_type": "display_data"
    },
    {
     "data": {
      "application/vnd.jupyter.widget-view+json": {
       "model_id": "f1b1df9502eb41fe9f8cf99a0554024e",
       "version_major": 2,
       "version_minor": 0
      },
      "text/plain": [
       "Evaluating:   0%|          | 0/50 [00:00<?, ?it/s]"
      ]
     },
     "metadata": {},
     "output_type": "display_data"
    },
    {
     "name": "stdout",
     "output_type": "stream",
     "text": [
      "best!\n",
      "Epoch: 01\n",
      "\tTrain Loss: 0.653 | Train Acc: 80.00%\n",
      "\t Val. Loss: 0.641 |  Val. Acc: 76.00% | Val. Std 0.4270831300812525\n"
     ]
    },
    {
     "data": {
      "application/vnd.jupyter.widget-view+json": {
       "model_id": "dc42da04fabc4e3291aa36981eaeab61",
       "version_major": 2,
       "version_minor": 0
      },
      "text/plain": [
       "Training:   0%|          | 0/10 [00:00<?, ?it/s]"
      ]
     },
     "metadata": {},
     "output_type": "display_data"
    },
    {
     "data": {
      "application/vnd.jupyter.widget-view+json": {
       "model_id": "534b802197a84a01be2e8fc5c1f2da8b",
       "version_major": 2,
       "version_minor": 0
      },
      "text/plain": [
       "Evaluating:   0%|          | 0/50 [00:00<?, ?it/s]"
      ]
     },
     "metadata": {},
     "output_type": "display_data"
    },
    {
     "name": "stdout",
     "output_type": "stream",
     "text": [
      "best!\n",
      "Epoch: 02\n",
      "\tTrain Loss: 0.592 | Train Acc: 90.00%\n",
      "\t Val. Loss: 0.611 |  Val. Acc: 76.00% | Val. Std 0.4270831300812525\n"
     ]
    },
    {
     "data": {
      "application/vnd.jupyter.widget-view+json": {
       "model_id": "b440e3b176bf4e2cb84f75cbebf158d4",
       "version_major": 2,
       "version_minor": 0
      },
      "text/plain": [
       "Training:   0%|          | 0/10 [00:00<?, ?it/s]"
      ]
     },
     "metadata": {},
     "output_type": "display_data"
    },
    {
     "data": {
      "application/vnd.jupyter.widget-view+json": {
       "model_id": "9bf40fda60644521a9e91b9e6e2423c8",
       "version_major": 2,
       "version_minor": 0
      },
      "text/plain": [
       "Evaluating:   0%|          | 0/50 [00:00<?, ?it/s]"
      ]
     },
     "metadata": {},
     "output_type": "display_data"
    },
    {
     "name": "stdout",
     "output_type": "stream",
     "text": [
      "best!\n",
      "Epoch: 03\n",
      "\tTrain Loss: 0.546 | Train Acc: 90.00%\n",
      "\t Val. Loss: 0.584 |  Val. Acc: 76.00% | Val. Std 0.4270831300812525\n"
     ]
    },
    {
     "data": {
      "application/vnd.jupyter.widget-view+json": {
       "model_id": "ead10ef9cdd842feb00207899c9754a5",
       "version_major": 2,
       "version_minor": 0
      },
      "text/plain": [
       "Training:   0%|          | 0/10 [00:00<?, ?it/s]"
      ]
     },
     "metadata": {},
     "output_type": "display_data"
    },
    {
     "data": {
      "application/vnd.jupyter.widget-view+json": {
       "model_id": "2d7e45fdbe6a49c689400f499a298056",
       "version_major": 2,
       "version_minor": 0
      },
      "text/plain": [
       "Evaluating:   0%|          | 0/50 [00:00<?, ?it/s]"
      ]
     },
     "metadata": {},
     "output_type": "display_data"
    },
    {
     "name": "stdout",
     "output_type": "stream",
     "text": [
      "best!\n",
      "Epoch: 04\n",
      "\tTrain Loss: 0.508 | Train Acc: 90.00%\n",
      "\t Val. Loss: 0.556 |  Val. Acc: 76.00% | Val. Std 0.4270831300812525\n"
     ]
    },
    {
     "data": {
      "application/vnd.jupyter.widget-view+json": {
       "model_id": "6d3d1f653f3947e28cc9b56761d4a60d",
       "version_major": 2,
       "version_minor": 0
      },
      "text/plain": [
       "Training:   0%|          | 0/10 [00:00<?, ?it/s]"
      ]
     },
     "metadata": {},
     "output_type": "display_data"
    },
    {
     "data": {
      "application/vnd.jupyter.widget-view+json": {
       "model_id": "1c16a511442b4235b5b777d6bc525ec8",
       "version_major": 2,
       "version_minor": 0
      },
      "text/plain": [
       "Evaluating:   0%|          | 0/50 [00:00<?, ?it/s]"
      ]
     },
     "metadata": {},
     "output_type": "display_data"
    },
    {
     "name": "stdout",
     "output_type": "stream",
     "text": [
      "best!\n",
      "Epoch: 05\n",
      "\tTrain Loss: 0.463 | Train Acc: 90.00%\n",
      "\t Val. Loss: 0.530 |  Val. Acc: 76.00% | Val. Std 0.4270831300812525\n",
      "\t Val. Loss: 0.530 |  Val. Acc: 0.76 | Val. Std 0.4270831300812525 | Train Acc: 0.900\n",
      "False\n"
     ]
    }
   ],
   "source": [
    "threshold=10\n",
    "condition = \"low_high_payoff\"\n",
    "run(condition, threshold)"
   ]
  },
  {
   "cell_type": "markdown",
   "id": "e5839a57",
   "metadata": {},
   "source": [
    "### Train Payoff 100$"
   ]
  },
  {
   "cell_type": "code",
   "execution_count": 14,
   "id": "6705a0c7",
   "metadata": {},
   "outputs": [
    {
     "data": {
      "application/vnd.jupyter.widget-view+json": {
       "model_id": "43418cc2827e4864a7d3950fe4f81e46",
       "version_major": 2,
       "version_minor": 0
      },
      "text/plain": [
       "  0%|          | 0/5 [00:00<?, ?it/s]"
      ]
     },
     "metadata": {},
     "output_type": "display_data"
    },
    {
     "data": {
      "application/vnd.jupyter.widget-view+json": {
       "model_id": "cdf76a6ba1d84b9cbd4851f9e0932538",
       "version_major": 2,
       "version_minor": 0
      },
      "text/plain": [
       "Training:   0%|          | 0/10 [00:00<?, ?it/s]"
      ]
     },
     "metadata": {},
     "output_type": "display_data"
    },
    {
     "data": {
      "application/vnd.jupyter.widget-view+json": {
       "model_id": "c863872069ea4a7f9a4696c319c04f71",
       "version_major": 2,
       "version_minor": 0
      },
      "text/plain": [
       "Evaluating:   0%|          | 0/50 [00:00<?, ?it/s]"
      ]
     },
     "metadata": {},
     "output_type": "display_data"
    },
    {
     "name": "stdout",
     "output_type": "stream",
     "text": [
      "best!\n",
      "Epoch: 01\n",
      "\tTrain Loss: 0.651 | Train Acc: 80.00%\n",
      "\t Val. Loss: 0.607 |  Val. Acc: 96.00% | Val. Std 0.19595917942265428\n"
     ]
    },
    {
     "data": {
      "application/vnd.jupyter.widget-view+json": {
       "model_id": "d2cdfc406f664715b7dc23a062507387",
       "version_major": 2,
       "version_minor": 0
      },
      "text/plain": [
       "Training:   0%|          | 0/10 [00:00<?, ?it/s]"
      ]
     },
     "metadata": {},
     "output_type": "display_data"
    },
    {
     "data": {
      "application/vnd.jupyter.widget-view+json": {
       "model_id": "2c23f11b2b0a4041a123fbb2e5cbf5bd",
       "version_major": 2,
       "version_minor": 0
      },
      "text/plain": [
       "Evaluating:   0%|          | 0/50 [00:00<?, ?it/s]"
      ]
     },
     "metadata": {},
     "output_type": "display_data"
    },
    {
     "name": "stdout",
     "output_type": "stream",
     "text": [
      "best!\n",
      "Epoch: 02\n",
      "\tTrain Loss: 0.574 | Train Acc: 90.00%\n",
      "\t Val. Loss: 0.531 |  Val. Acc: 96.00% | Val. Std 0.19595917942265428\n"
     ]
    },
    {
     "data": {
      "application/vnd.jupyter.widget-view+json": {
       "model_id": "2fe59519ec1e49b3b1e88099b72000ed",
       "version_major": 2,
       "version_minor": 0
      },
      "text/plain": [
       "Training:   0%|          | 0/10 [00:00<?, ?it/s]"
      ]
     },
     "metadata": {},
     "output_type": "display_data"
    },
    {
     "data": {
      "application/vnd.jupyter.widget-view+json": {
       "model_id": "29454c169a6f44adbb472e070ba0a749",
       "version_major": 2,
       "version_minor": 0
      },
      "text/plain": [
       "Evaluating:   0%|          | 0/50 [00:00<?, ?it/s]"
      ]
     },
     "metadata": {},
     "output_type": "display_data"
    },
    {
     "name": "stdout",
     "output_type": "stream",
     "text": [
      "best!\n",
      "Epoch: 03\n",
      "\tTrain Loss: 0.507 | Train Acc: 100.00%\n",
      "\t Val. Loss: 0.470 |  Val. Acc: 96.00% | Val. Std 0.19595917942265428\n"
     ]
    },
    {
     "data": {
      "application/vnd.jupyter.widget-view+json": {
       "model_id": "fdecde58ca0842098b28b1079f1d0aba",
       "version_major": 2,
       "version_minor": 0
      },
      "text/plain": [
       "Training:   0%|          | 0/10 [00:00<?, ?it/s]"
      ]
     },
     "metadata": {},
     "output_type": "display_data"
    },
    {
     "data": {
      "application/vnd.jupyter.widget-view+json": {
       "model_id": "a97a567f29454f928d1b52496e9e00e6",
       "version_major": 2,
       "version_minor": 0
      },
      "text/plain": [
       "Evaluating:   0%|          | 0/50 [00:00<?, ?it/s]"
      ]
     },
     "metadata": {},
     "output_type": "display_data"
    },
    {
     "name": "stdout",
     "output_type": "stream",
     "text": [
      "best!\n",
      "Epoch: 04\n",
      "\tTrain Loss: 0.453 | Train Acc: 100.00%\n",
      "\t Val. Loss: 0.412 |  Val. Acc: 96.00% | Val. Std 0.19595917942265428\n"
     ]
    },
    {
     "data": {
      "application/vnd.jupyter.widget-view+json": {
       "model_id": "9a80c3e69fda4594ba2a3da4ef789db3",
       "version_major": 2,
       "version_minor": 0
      },
      "text/plain": [
       "Training:   0%|          | 0/10 [00:00<?, ?it/s]"
      ]
     },
     "metadata": {},
     "output_type": "display_data"
    },
    {
     "data": {
      "application/vnd.jupyter.widget-view+json": {
       "model_id": "1c108186a3f64a9abce3d01e20a6eba4",
       "version_major": 2,
       "version_minor": 0
      },
      "text/plain": [
       "Evaluating:   0%|          | 0/50 [00:00<?, ?it/s]"
      ]
     },
     "metadata": {},
     "output_type": "display_data"
    },
    {
     "name": "stdout",
     "output_type": "stream",
     "text": [
      "best!\n",
      "Epoch: 05\n",
      "\tTrain Loss: 0.405 | Train Acc: 100.00%\n",
      "\t Val. Loss: 0.356 |  Val. Acc: 98.00% | Val. Std 0.13999999999999999\n",
      "\t Val. Loss: 0.356 |  Val. Acc: 0.98 | Val. Std 0.13999999999999999 | Train Acc: 1.000\n",
      "False\n"
     ]
    }
   ],
   "source": [
    "threshold=100\n",
    "condition = \"low_high_payoff\"\n",
    "run(condition, threshold)"
   ]
  }
 ],
 "metadata": {
  "kernelspec": {
   "display_name": "neg",
   "language": "python",
   "name": "python3"
  },
  "language_info": {
   "codemirror_mode": {
    "name": "ipython",
    "version": 3
   },
   "file_extension": ".py",
   "mimetype": "text/x-python",
   "name": "python",
   "nbconvert_exporter": "python",
   "pygments_lexer": "ipython3",
   "version": "3.9.6"
  },
  "vscode": {
   "interpreter": {
    "hash": "0054cf4bc0f0acb96206614c856cfb0d54dce0b844c2ee51a666f06493845228"
   }
  }
 },
 "nbformat": 4,
 "nbformat_minor": 5
}
